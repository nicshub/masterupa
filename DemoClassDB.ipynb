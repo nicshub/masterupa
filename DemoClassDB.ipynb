{
 "cells": [
  {
   "cell_type": "markdown",
   "id": "69b5f000",
   "metadata": {},
   "source": [
    "# Demo Class DB"
   ]
  },
  {
   "cell_type": "markdown",
   "id": "ce7b58ed",
   "metadata": {},
   "source": [
    "## Connecting to database"
   ]
  },
  {
   "cell_type": "markdown",
   "id": "85e7d6e8",
   "metadata": {},
   "source": [
    "Install Magic Extension"
   ]
  },
  {
   "cell_type": "code",
   "execution_count": null,
   "id": "c4cc3798",
   "metadata": {},
   "outputs": [],
   "source": [
    "!pip install sqlalchemy ipython-sql"
   ]
  },
  {
   "cell_type": "markdown",
   "id": "d91358bc",
   "metadata": {},
   "source": [
    "And load it"
   ]
  },
  {
   "cell_type": "code",
   "execution_count": null,
   "id": "8233ba99",
   "metadata": {},
   "outputs": [],
   "source": [
    "%load_ext sql"
   ]
  },
  {
   "cell_type": "markdown",
   "id": "6e8c11d3",
   "metadata": {},
   "source": [
    "Now we connect to DB"
   ]
  },
  {
   "cell_type": "code",
   "execution_count": null,
   "id": "bd50f872",
   "metadata": {},
   "outputs": [],
   "source": [
    "%sql sqlite:///dataset/upa"
   ]
  },
  {
   "cell_type": "markdown",
   "id": "f22b2a9e",
   "metadata": {},
   "source": [
    "See the list of tables "
   ]
  },
  {
   "cell_type": "code",
   "execution_count": null,
   "id": "7da4cf70",
   "metadata": {},
   "outputs": [],
   "source": [
    "%%sql \n",
    "SELECT name FROM sqlite_schema\n",
    "WHERE type='table'\n",
    "ORDER BY name;"
   ]
  },
  {
   "cell_type": "markdown",
   "id": "5202df90",
   "metadata": {},
   "source": [
    "Now let's have the schema available"
   ]
  },
  {
   "cell_type": "markdown",
   "id": "eb362c12",
   "metadata": {},
   "source": [
    "![](dataset/schema.png)"
   ]
  },
  {
   "cell_type": "markdown",
   "id": "d21ba34c",
   "metadata": {},
   "source": [
    "## Select"
   ]
  },
  {
   "cell_type": "markdown",
   "id": "3047872c",
   "metadata": {},
   "source": [
    "### All rows/columns in a table"
   ]
  },
  {
   "attachments": {},
   "cell_type": "markdown",
   "id": "7442e9b6",
   "metadata": {},
   "source": [
    "```sql \n",
    "select * from table \n",
    "```\n",
    "\n",
    "Note: * means all columns"
   ]
  },
  {
   "cell_type": "markdown",
   "id": "67691c09",
   "metadata": {},
   "source": [
    "List all items present in table Ad"
   ]
  },
  {
   "cell_type": "code",
   "execution_count": null,
   "id": "70f8f8ac",
   "metadata": {},
   "outputs": [],
   "source": [
    "%%sql\n"
   ]
  },
  {
   "cell_type": "markdown",
   "id": "7965b203",
   "metadata": {},
   "source": [
    "### Subset of rows"
   ]
  },
  {
   "attachments": {},
   "cell_type": "markdown",
   "id": "8737f31f",
   "metadata": {},
   "source": [
    "```sql \n",
    "select * from table where column = xxx \n",
    "```\n",
    "\n",
    "Note: xxx may be an int or a string"
   ]
  },
  {
   "cell_type": "markdown",
   "id": "ca35bfd1",
   "metadata": {},
   "source": [
    "List all items with price less then 60"
   ]
  },
  {
   "cell_type": "code",
   "execution_count": null,
   "id": "354e627e",
   "metadata": {},
   "outputs": [],
   "source": [
    "%%sql\n"
   ]
  },
  {
   "cell_type": "markdown",
   "id": "61023019",
   "metadata": {},
   "source": [
    "### Subset of rows multiple conditions"
   ]
  },
  {
   "attachments": {},
   "cell_type": "markdown",
   "id": "da385a59",
   "metadata": {},
   "source": [
    "select * from table where col1 = xxx and col2 > yyy"
   ]
  },
  {
   "cell_type": "code",
   "execution_count": null,
   "id": "cc1ee50f",
   "metadata": {},
   "outputs": [],
   "source": [
    "%%sql\n"
   ]
  },
  {
   "attachments": {},
   "cell_type": "markdown",
   "id": "1424bd26",
   "metadata": {},
   "source": [
    "### Get a subset of columns: select col1, col2 from table"
   ]
  },
  {
   "cell_type": "code",
   "execution_count": null,
   "id": "41772372",
   "metadata": {},
   "outputs": [],
   "source": [
    "%%sql\n"
   ]
  },
  {
   "attachments": {},
   "cell_type": "markdown",
   "id": "a41f16c6",
   "metadata": {},
   "source": [
    "### Get a nice name to columns: select col1 as name from table"
   ]
  },
  {
   "cell_type": "code",
   "execution_count": null,
   "id": "426530eb",
   "metadata": {},
   "outputs": [],
   "source": [
    "%%sql\n"
   ]
  },
  {
   "attachments": {},
   "cell_type": "markdown",
   "id": "860694cc",
   "metadata": {},
   "source": [
    "### Multiple conditions: select case when col1 > x then ‘X’ when col2 > y then ‘Y’ else ‘Z’ end"
   ]
  },
  {
   "cell_type": "code",
   "execution_count": null,
   "id": "d4eabdee",
   "metadata": {},
   "outputs": [],
   "source": [
    "%%sql\n"
   ]
  },
  {
   "cell_type": "markdown",
   "id": "39f6c8ad",
   "metadata": {},
   "source": [
    "### Limit results: (depends on DBMS) select * from table limit 10"
   ]
  },
  {
   "cell_type": "code",
   "execution_count": null,
   "id": "080e7dfd",
   "metadata": {},
   "outputs": [],
   "source": [
    "%%sql\n"
   ]
  },
  {
   "attachments": {},
   "cell_type": "markdown",
   "id": "33919dc7",
   "metadata": {},
   "source": [
    "### Search for patterns: select * from table where col like ‘%x%’ (% is a wildcard)"
   ]
  },
  {
   "cell_type": "code",
   "execution_count": null,
   "id": "aa004239",
   "metadata": {},
   "outputs": [],
   "source": [
    "%%sql\n"
   ]
  },
  {
   "cell_type": "markdown",
   "id": "7f61f03e",
   "metadata": {},
   "source": [
    "## Sort"
   ]
  },
  {
   "attachments": {},
   "cell_type": "markdown",
   "id": "12138604",
   "metadata": {},
   "source": [
    "### Return query result in order: select col from table order by col asc"
   ]
  },
  {
   "cell_type": "code",
   "execution_count": null,
   "id": "036655a5",
   "metadata": {},
   "outputs": [],
   "source": [
    "%%sql\n"
   ]
  },
  {
   "attachments": {},
   "cell_type": "markdown",
   "id": "a89c3753",
   "metadata": {},
   "source": [
    "### Sort multiple fields: select * from table order by col1, col2"
   ]
  },
  {
   "cell_type": "code",
   "execution_count": null,
   "id": "f0d78ce2",
   "metadata": {},
   "outputs": [],
   "source": [
    "%%sql\n"
   ]
  },
  {
   "attachments": {},
   "cell_type": "markdown",
   "id": "1d2af0a3",
   "metadata": {},
   "source": [
    "### Sort based on conditional logic"
   ]
  },
  {
   "cell_type": "code",
   "execution_count": null,
   "id": "810b774e",
   "metadata": {},
   "outputs": [],
   "source": [
    "%%sql\n"
   ]
  },
  {
   "attachments": {},
   "cell_type": "markdown",
   "id": "1cf94755",
   "metadata": {},
   "source": [
    "## Working with multiple tables"
   ]
  },
  {
   "attachments": {},
   "cell_type": "markdown",
   "id": "e423bd6f",
   "metadata": {},
   "source": [
    "### Stacking two row sets: select col from table union all select col from table2"
   ]
  },
  {
   "cell_type": "code",
   "execution_count": null,
   "id": "99f98b60",
   "metadata": {},
   "outputs": [],
   "source": [
    "%%sql\n"
   ]
  },
  {
   "attachments": {},
   "cell_type": "markdown",
   "id": "4a3f4989",
   "metadata": {},
   "source": [
    "### Combine related rows: select colA, colB from tableA join tableB on tableA.key= tableB.key"
   ]
  },
  {
   "cell_type": "code",
   "execution_count": null,
   "id": "bb1a1325",
   "metadata": {},
   "outputs": [],
   "source": [
    "%%sql\n"
   ]
  },
  {
   "attachments": {},
   "cell_type": "markdown",
   "id": "323d10a1",
   "metadata": {},
   "source": [
    "### Find rows in common between two tables "
   ]
  },
  {
   "cell_type": "code",
   "execution_count": null,
   "id": "92226e13",
   "metadata": {},
   "outputs": [],
   "source": [
    "%%sql\n"
   ]
  },
  {
   "cell_type": "markdown",
   "id": "6b147c48",
   "metadata": {},
   "source": []
  },
  {
   "cell_type": "code",
   "execution_count": null,
   "id": "74cfe2f6",
   "metadata": {},
   "outputs": [],
   "source": [
    "%%sql\n"
   ]
  },
  {
   "cell_type": "markdown",
   "id": "17de9e10",
   "metadata": {},
   "source": []
  },
  {
   "cell_type": "code",
   "execution_count": null,
   "id": "0abde3a2",
   "metadata": {},
   "outputs": [],
   "source": [
    "%%sql\n"
   ]
  },
  {
   "cell_type": "markdown",
   "id": "61f13332",
   "metadata": {},
   "source": []
  },
  {
   "cell_type": "code",
   "execution_count": null,
   "id": "e984db3f",
   "metadata": {},
   "outputs": [],
   "source": [
    "%%sql\n"
   ]
  },
  {
   "cell_type": "markdown",
   "id": "f806df35",
   "metadata": {},
   "source": []
  },
  {
   "cell_type": "code",
   "execution_count": null,
   "id": "ab78c75b",
   "metadata": {},
   "outputs": [],
   "source": [
    "%%sql\n"
   ]
  },
  {
   "cell_type": "markdown",
   "id": "be12655a",
   "metadata": {},
   "source": []
  },
  {
   "cell_type": "code",
   "execution_count": null,
   "id": "e48120af",
   "metadata": {},
   "outputs": [],
   "source": [
    "%%sql\n"
   ]
  },
  {
   "cell_type": "markdown",
   "id": "3b8d873b",
   "metadata": {},
   "source": []
  },
  {
   "cell_type": "code",
   "execution_count": null,
   "id": "7d1f9a4d",
   "metadata": {},
   "outputs": [],
   "source": [
    "%%sql\n"
   ]
  },
  {
   "cell_type": "markdown",
   "id": "737cb2de",
   "metadata": {},
   "source": []
  },
  {
   "cell_type": "code",
   "execution_count": null,
   "id": "89e162b4",
   "metadata": {},
   "outputs": [],
   "source": [
    "%%sql\n"
   ]
  },
  {
   "cell_type": "markdown",
   "id": "dd88141c",
   "metadata": {},
   "source": []
  },
  {
   "cell_type": "code",
   "execution_count": null,
   "id": "5358450f",
   "metadata": {},
   "outputs": [],
   "source": [
    "%%sql\n"
   ]
  }
 ],
 "metadata": {
  "kernelspec": {
   "display_name": "Python 3 (ipykernel)",
   "language": "python",
   "name": "python3"
  },
  "language_info": {
   "codemirror_mode": {
    "name": "ipython",
    "version": 3
   },
   "file_extension": ".py",
   "mimetype": "text/x-python",
   "name": "python",
   "nbconvert_exporter": "python",
   "pygments_lexer": "ipython3",
   "version": "3.9.10"
  }
 },
 "nbformat": 4,
 "nbformat_minor": 5
}
