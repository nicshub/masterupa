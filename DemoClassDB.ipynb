{
 "cells": [
  {
   "cell_type": "markdown",
   "id": "9f568982",
   "metadata": {},
   "source": [
    "# Demo Class DB"
   ]
  },
  {
   "cell_type": "markdown",
   "id": "7d2d8f48",
   "metadata": {},
   "source": [
    "## Connecting to database"
   ]
  },
  {
   "cell_type": "markdown",
   "id": "1265e01b",
   "metadata": {},
   "source": [
    "Install Magic Extension"
   ]
  },
  {
   "cell_type": "code",
   "execution_count": null,
   "id": "cfeb59e2",
   "metadata": {},
   "outputs": [],
   "source": [
    "!pip install SQLAlchemy==1.4.46\n",
    "!pip install PyMySQL==1.0.2 # or whichever\n",
    "!pip install ipython-sql==0.4.1"
   ]
  },
  {
   "cell_type": "markdown",
   "id": "1bf62c63",
   "metadata": {},
   "source": [
    "And load it"
   ]
  },
  {
   "cell_type": "code",
   "execution_count": null,
   "id": "611c4302",
   "metadata": {},
   "outputs": [],
   "source": [
    "%load_ext sql"
   ]
  },
  {
   "cell_type": "markdown",
   "id": "2355bd26",
   "metadata": {},
   "source": [
    "Download the database"
   ]
  },
  {
   "cell_type": "code",
   "execution_count": null,
   "id": "ff4c3877",
   "metadata": {},
   "outputs": [],
   "source": [
    "!wget https://raw.githubusercontent.com/salvo-nicotra/masterupa/main/upa"
   ]
  },
  {
   "cell_type": "markdown",
   "id": "406eb0bf",
   "metadata": {},
   "source": [
    "Now we connect to DB"
   ]
  },
  {
   "cell_type": "code",
   "execution_count": null,
   "id": "72d2e129",
   "metadata": {},
   "outputs": [],
   "source": [
    "%sql sqlite:///upa"
   ]
  },
  {
   "cell_type": "markdown",
   "id": "ed24f4b6",
   "metadata": {},
   "source": [
    "Check if we are connected"
   ]
  },
  {
   "cell_type": "code",
   "execution_count": null,
   "id": "3ad5c025",
   "metadata": {},
   "outputs": [],
   "source": [
    "%sql"
   ]
  },
  {
   "cell_type": "markdown",
   "id": "55adea2e",
   "metadata": {},
   "source": [
    "See the list of tables "
   ]
  },
  {
   "cell_type": "code",
   "execution_count": null,
   "id": "bf62338e",
   "metadata": {},
   "outputs": [],
   "source": [
    "%%sql \n",
    "SELECT name FROM sqlite_master\n",
    "WHERE type='table'\n",
    "ORDER BY name;"
   ]
  },
  {
   "cell_type": "markdown",
   "id": "0c70ed48",
   "metadata": {},
   "source": [
    "Now let's have the schema available"
   ]
  },
  {
   "cell_type": "markdown",
   "id": "4879204c",
   "metadata": {},
   "source": [
    "![](https://raw.githubusercontent.com/salvo-nicotra/masterupa/main/schema.png)"
   ]
  },
  {
   "cell_type": "markdown",
   "id": "f60c5986",
   "metadata": {},
   "source": [
    "## Select"
   ]
  },
  {
   "cell_type": "markdown",
   "id": "6512d2e7",
   "metadata": {},
   "source": [
    "### All rows/columns in a table"
   ]
  },
  {
   "cell_type": "markdown",
   "id": "ee0baac9",
   "metadata": {},
   "source": [
    "```sql \n",
    "select * from table \n",
    "```\n",
    "\n",
    "Note: * means all columns"
   ]
  },
  {
   "cell_type": "markdown",
   "id": "a89d310d",
   "metadata": {},
   "source": [
    "List all items present in table Ad"
   ]
  },
  {
   "cell_type": "code",
   "execution_count": null,
   "id": "5de2c849",
   "metadata": {},
   "outputs": [],
   "source": [
    "%%sql\n"
   ]
  },
  {
   "cell_type": "markdown",
   "id": "f8efcafb",
   "metadata": {},
   "source": [
    "### Subset of rows"
   ]
  },
  {
   "cell_type": "markdown",
   "id": "2ad40a49",
   "metadata": {},
   "source": [
    "```sql \n",
    "select * from table where column = xxx \n",
    "```\n",
    "\n",
    "Note: xxx may be an int or a string"
   ]
  },
  {
   "cell_type": "markdown",
   "id": "51274c37",
   "metadata": {},
   "source": [
    "List all items with price less then 60"
   ]
  },
  {
   "cell_type": "code",
   "execution_count": null,
   "id": "f9427085",
   "metadata": {},
   "outputs": [],
   "source": [
    "%%sql\n"
   ]
  },
  {
   "cell_type": "markdown",
   "id": "b12c3d58",
   "metadata": {},
   "source": [
    "### Subset of rows multiple conditions"
   ]
  },
  {
   "cell_type": "markdown",
   "id": "35240b0c",
   "metadata": {},
   "source": [
    "```sql\n",
    "select * from table where col1 = xxx and col2 > yyy\n",
    "```"
   ]
  },
  {
   "cell_type": "markdown",
   "id": "b2e864b2",
   "metadata": {},
   "source": [
    "List all items with price between then 30 and 100"
   ]
  },
  {
   "cell_type": "code",
   "execution_count": null,
   "id": "a6b70fa0",
   "metadata": {},
   "outputs": [],
   "source": [
    "%%sql\n"
   ]
  },
  {
   "cell_type": "markdown",
   "id": "c9aa0b58",
   "metadata": {},
   "source": [
    "### Get a subset of columns "
   ]
  },
  {
   "cell_type": "markdown",
   "id": "6acb7074",
   "metadata": {},
   "source": [
    "```sql \n",
    "select col1, col2 from table\n",
    "```"
   ]
  },
  {
   "cell_type": "markdown",
   "id": "d0e5fd8a",
   "metadata": {},
   "source": [
    "List title and body from News table"
   ]
  },
  {
   "cell_type": "code",
   "execution_count": null,
   "id": "0a877f45",
   "metadata": {},
   "outputs": [],
   "source": [
    "%%sql\n"
   ]
  },
  {
   "cell_type": "markdown",
   "id": "bf2dbf53",
   "metadata": {},
   "source": [
    "### Get a nice name to columns"
   ]
  },
  {
   "cell_type": "markdown",
   "id": "ebf034ab",
   "metadata": {},
   "source": [
    "```sql \n",
    "select col1 as name from table\n",
    "``` "
   ]
  },
  {
   "cell_type": "markdown",
   "id": "e88d6d67",
   "metadata": {},
   "source": [
    "List title and body from News table and rename them respectively with Titolo and Contenuto"
   ]
  },
  {
   "cell_type": "code",
   "execution_count": null,
   "id": "37d35e13",
   "metadata": {},
   "outputs": [],
   "source": [
    "%%sql\n"
   ]
  },
  {
   "cell_type": "markdown",
   "id": "45014a59",
   "metadata": {},
   "source": [
    "### Multiple conditions"
   ]
  },
  {
   "cell_type": "markdown",
   "id": "b107df77",
   "metadata": {},
   "source": [
    "```sql\n",
    "select \n",
    "case \n",
    "    when col1 > x then ‘X’ \n",
    "    when col2 > y then ‘Y’ \n",
    "    else ‘Z’\n",
    "end\n",
    "```"
   ]
  },
  {
   "cell_type": "markdown",
   "id": "416c54a8",
   "metadata": {},
   "source": [
    "Classify the items in Item table according to price ranges\n",
    "- less than 10 as Cheap\n",
    "- between 10 and 9999 Affordable\n",
    "- Expensive otherwise"
   ]
  },
  {
   "cell_type": "code",
   "execution_count": null,
   "id": "f637d600",
   "metadata": {},
   "outputs": [],
   "source": [
    "%%sql\n"
   ]
  },
  {
   "cell_type": "markdown",
   "id": "db48f676",
   "metadata": {},
   "source": [
    "### Limit results "
   ]
  },
  {
   "cell_type": "markdown",
   "id": "9c29a4cb",
   "metadata": {},
   "source": [
    "```sql \n",
    "select * from table limit 10\n",
    "```\n",
    "\n",
    "Note: Limit is not supported by all DBMS "
   ]
  },
  {
   "cell_type": "markdown",
   "id": "7b6e8515",
   "metadata": {},
   "source": [
    "Get the first 10 elements in the News table"
   ]
  },
  {
   "cell_type": "code",
   "execution_count": null,
   "id": "25a2b0f1",
   "metadata": {},
   "outputs": [],
   "source": [
    "%%sql\n"
   ]
  },
  {
   "cell_type": "markdown",
   "id": "aeb6816e",
   "metadata": {},
   "source": [
    "### Search for patterns"
   ]
  },
  {
   "cell_type": "markdown",
   "id": "5e5044fd",
   "metadata": {},
   "source": [
    "```sql\n",
    "select * from table where col like ‘%x%’ \n",
    "```\n",
    "\n",
    "Note: % is a wildcard"
   ]
  },
  {
   "cell_type": "markdown",
   "id": "6a7befba",
   "metadata": {},
   "source": [
    "Get all writers in Writer table with name starting with C"
   ]
  },
  {
   "cell_type": "code",
   "execution_count": null,
   "id": "3775cedc",
   "metadata": {},
   "outputs": [],
   "source": [
    "%%sql\n"
   ]
  },
  {
   "cell_type": "markdown",
   "id": "ee5ae264",
   "metadata": {},
   "source": [
    "## Sort"
   ]
  },
  {
   "cell_type": "markdown",
   "id": "6abae7d7",
   "metadata": {},
   "source": [
    "### Return query result in order"
   ]
  },
  {
   "cell_type": "markdown",
   "id": "0b2347c0",
   "metadata": {},
   "source": [
    "```sql \n",
    "select col from table order by col asc\n",
    "```"
   ]
  },
  {
   "cell_type": "markdown",
   "id": "8f0e94a4",
   "metadata": {},
   "source": [
    "Get the list of Item order by iId"
   ]
  },
  {
   "cell_type": "code",
   "execution_count": null,
   "id": "abb88f98",
   "metadata": {},
   "outputs": [],
   "source": [
    "%%sql\n"
   ]
  },
  {
   "cell_type": "markdown",
   "id": "613684e0",
   "metadata": {},
   "source": [
    "### Sort multiple fields"
   ]
  },
  {
   "cell_type": "markdown",
   "id": "9f47882e",
   "metadata": {},
   "source": [
    "```sql\n",
    "select * from table order by col1, col2\n",
    "```"
   ]
  },
  {
   "cell_type": "markdown",
   "id": "c98b32fb",
   "metadata": {},
   "source": [
    "Get the list of interaction in Interact table order by cookieid, info, basket, buy"
   ]
  },
  {
   "cell_type": "code",
   "execution_count": null,
   "id": "d9d53d83",
   "metadata": {},
   "outputs": [],
   "source": [
    "%%sql\n"
   ]
  },
  {
   "cell_type": "markdown",
   "id": "7130219d",
   "metadata": {},
   "source": [
    "### Sort based on conditional logic"
   ]
  },
  {
   "cell_type": "markdown",
   "id": "28bc8f61",
   "metadata": {},
   "source": [
    "```sql\n",
    "select * from table order by case when ... end\n",
    "```"
   ]
  },
  {
   "cell_type": "markdown",
   "id": "b7d02fea",
   "metadata": {},
   "source": [
    "Order the items in the Item table\n",
    "- by description for price less then 100\n",
    "- by producer otherwise "
   ]
  },
  {
   "cell_type": "code",
   "execution_count": null,
   "id": "bed3f4c5",
   "metadata": {},
   "outputs": [],
   "source": [
    "%%sql\n"
   ]
  },
  {
   "cell_type": "markdown",
   "id": "d7180f5e",
   "metadata": {},
   "source": [
    "## Working with multiple tables"
   ]
  },
  {
   "cell_type": "markdown",
   "id": "3a77f702",
   "metadata": {},
   "source": [
    "### Stacking two row sets"
   ]
  },
  {
   "cell_type": "markdown",
   "id": "9940498e",
   "metadata": {},
   "source": [
    "```sql\n",
    "select col from table union all select col from table2\n",
    "```"
   ]
  },
  {
   "cell_type": "markdown",
   "id": "7104bd30",
   "metadata": {},
   "source": [
    "Get all names from tables User and Writer"
   ]
  },
  {
   "cell_type": "code",
   "execution_count": null,
   "id": "cb768a3d",
   "metadata": {},
   "outputs": [],
   "source": [
    "%%sql\n"
   ]
  },
  {
   "cell_type": "markdown",
   "id": "06daefed",
   "metadata": {},
   "source": [
    "### Combine related rows"
   ]
  },
  {
   "cell_type": "markdown",
   "id": "5a9ed8ef",
   "metadata": {},
   "source": [
    "```sql\n",
    "select colA, colB \n",
    "from tableA \n",
    "join tableB on tableA.key=tableB.key\n",
    "```"
   ]
  },
  {
   "cell_type": "markdown",
   "id": "6ea6d0f5",
   "metadata": {},
   "source": [
    "Get all News and Author details"
   ]
  },
  {
   "cell_type": "code",
   "execution_count": null,
   "id": "4ce50311",
   "metadata": {},
   "outputs": [],
   "source": [
    "%%sql\n",
    "\n"
   ]
  },
  {
   "cell_type": "markdown",
   "id": "27cd51a8",
   "metadata": {},
   "source": [
    "### Find rows in common between two tables "
   ]
  },
  {
   "cell_type": "markdown",
   "id": "1d9eb27e",
   "metadata": {},
   "source": [
    "```sql\n",
    "select col from tableA\n",
    "INTERSECT \n",
    "select col from tableB\n",
    "```"
   ]
  },
  {
   "cell_type": "markdown",
   "id": "407f120a",
   "metadata": {},
   "source": [
    "Find cookieId that have interacted and clicked"
   ]
  },
  {
   "cell_type": "code",
   "execution_count": null,
   "id": "0aff88d2",
   "metadata": {},
   "outputs": [],
   "source": [
    "%%sql\n"
   ]
  },
  {
   "cell_type": "markdown",
   "id": "440938ba",
   "metadata": {},
   "source": [
    "### Find rows from one table that don’t exits in the other"
   ]
  },
  {
   "cell_type": "markdown",
   "id": "b1ce4bfe",
   "metadata": {},
   "source": [
    "```sql\n",
    "select col from tableA\n",
    "EXCEPT \n",
    "select col from tableB\n",
    "```"
   ]
  },
  {
   "cell_type": "markdown",
   "id": "bc2e265f",
   "metadata": {},
   "source": [
    "Find cookieId that have interacted but not clicked"
   ]
  },
  {
   "cell_type": "code",
   "execution_count": null,
   "id": "c3ffae62",
   "metadata": {},
   "outputs": [],
   "source": [
    "%%sql\n"
   ]
  },
  {
   "cell_type": "markdown",
   "id": "f141f5e1",
   "metadata": {},
   "source": [
    "### Find rows from one table that don’t match with another"
   ]
  },
  {
   "cell_type": "markdown",
   "id": "dfdc6097",
   "metadata": {},
   "source": [
    "```sql\n",
    "select colA, colB \n",
    "from tableA \n",
    "left join tableB on tableA.key=tableB.key\n",
    "where \n",
    "tableB.key is null\n",
    "```"
   ]
  },
  {
   "cell_type": "markdown",
   "id": "6a127c2c",
   "metadata": {},
   "source": [
    "Get the list of News and correspondent cookieId that haven't yet read them"
   ]
  },
  {
   "cell_type": "code",
   "execution_count": 22,
   "id": "891020ba",
   "metadata": {},
   "outputs": [
    {
     "name": "stderr",
     "output_type": "stream",
     "text": [
      "UsageError: %%sql is a cell magic, but the cell body is empty. Did you mean the line magic %sql (single %)?\n"
     ]
    }
   ],
   "source": [
    "%%sql\n"
   ]
  },
  {
   "cell_type": "markdown",
   "id": "f9786da2",
   "metadata": {},
   "source": [
    "## Aggregation and Grouping"
   ]
  },
  {
   "cell_type": "markdown",
   "id": "ff84ed8d",
   "metadata": {},
   "source": [
    "### Calculate average of a column"
   ]
  },
  {
   "cell_type": "markdown",
   "id": "43f10679",
   "metadata": {},
   "source": [
    "```sql\n",
    "select avg(col) from table\n",
    "```"
   ]
  },
  {
   "cell_type": "markdown",
   "id": "21b64eae",
   "metadata": {},
   "source": [
    "### Getting min, max from a column in a group"
   ]
  },
  {
   "cell_type": "markdown",
   "id": "f8d97511",
   "metadata": {},
   "source": [
    "```sql\n",
    "select min(col), max(col) from table group by key\n",
    "```"
   ]
  },
  {
   "cell_type": "markdown",
   "id": "0667c011",
   "metadata": {},
   "source": [
    "Get the minimum and maximum price of items for each producer"
   ]
  },
  {
   "cell_type": "code",
   "execution_count": null,
   "id": "44d4b092",
   "metadata": {},
   "outputs": [],
   "source": [
    "%%sql\n"
   ]
  },
  {
   "cell_type": "markdown",
   "id": "e3937f75",
   "metadata": {},
   "source": [
    "### Sum and Count columns"
   ]
  },
  {
   "cell_type": "markdown",
   "id": "b68a96c3",
   "metadata": {},
   "source": [
    "```sql\n",
    "select sum(col),count(*) from table\n",
    "```"
   ]
  },
  {
   "cell_type": "markdown",
   "id": "cb2a30c5",
   "metadata": {},
   "source": [
    "For each cookie, get the total and average spent and the total number of items buyed"
   ]
  },
  {
   "cell_type": "code",
   "execution_count": null,
   "id": "ba284231",
   "metadata": {},
   "outputs": [],
   "source": [
    "%%sql\n"
   ]
  }
 ],
 "metadata": {
  "kernelspec": {
   "display_name": "Python 3 (ipykernel)",
   "language": "python",
   "name": "python3"
  },
  "language_info": {
   "codemirror_mode": {
    "name": "ipython",
    "version": 3
   },
   "file_extension": ".py",
   "mimetype": "text/x-python",
   "name": "python",
   "nbconvert_exporter": "python",
   "pygments_lexer": "ipython3",
   "version": "3.9.15"
  }
 },
 "nbformat": 4,
 "nbformat_minor": 5
}
