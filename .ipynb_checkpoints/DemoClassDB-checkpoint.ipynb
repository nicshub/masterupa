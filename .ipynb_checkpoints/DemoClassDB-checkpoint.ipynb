{
 "cells": [
  {
   "cell_type": "markdown",
   "id": "416f3fb7",
   "metadata": {},
   "source": [
    "# Demo Class DB"
   ]
  },
  {
   "cell_type": "markdown",
   "id": "5ee9df46",
   "metadata": {},
   "source": [
    "## Connecting to database"
   ]
  },
  {
   "cell_type": "markdown",
   "id": "e3e44a3a",
   "metadata": {},
   "source": [
    "Install Magic Extension"
   ]
  },
  {
   "cell_type": "code",
   "execution_count": null,
   "id": "bce27abc",
   "metadata": {},
   "outputs": [],
   "source": [
    "!pip install sqlalchemy ipython-sql"
   ]
  },
  {
   "cell_type": "markdown",
   "id": "8e793a74",
   "metadata": {},
   "source": [
    "And load it"
   ]
  },
  {
   "cell_type": "code",
   "execution_count": null,
   "id": "dd065e6f",
   "metadata": {},
   "outputs": [],
   "source": [
    "%load_ext sql"
   ]
  },
  {
   "cell_type": "markdown",
   "id": "b605e839",
   "metadata": {},
   "source": [
    "Download the database"
   ]
  },
  {
   "cell_type": "code",
   "execution_count": null,
   "id": "675ccb4a",
   "metadata": {},
   "outputs": [],
   "source": [
    "!wget https://raw.githubusercontent.com/salvo-nicotra/masterupa/main/upa"
   ]
  },
  {
   "cell_type": "markdown",
   "id": "74fb1869",
   "metadata": {},
   "source": [
    "Now we connect to DB"
   ]
  },
  {
   "cell_type": "code",
   "execution_count": null,
   "id": "e29e4a2b",
   "metadata": {},
   "outputs": [],
   "source": [
    "%sql sqlite:///upa"
   ]
  },
  {
   "cell_type": "markdown",
   "id": "0d9c57e6",
   "metadata": {},
   "source": [
    "Check if we are connected"
   ]
  },
  {
   "cell_type": "code",
   "execution_count": null,
   "id": "67d80b24",
   "metadata": {},
   "outputs": [],
   "source": [
    "%sql"
   ]
  },
  {
   "cell_type": "markdown",
   "id": "2d008592",
   "metadata": {},
   "source": [
    "See the list of tables "
   ]
  },
  {
   "cell_type": "code",
   "execution_count": null,
   "id": "b62c4fa7",
   "metadata": {},
   "outputs": [],
   "source": [
    "%%sql \n",
    "SELECT name FROM sqlite_schema\n",
    "WHERE type='table'\n",
    "ORDER BY name;"
   ]
  },
  {
   "cell_type": "markdown",
   "id": "4d3abf4a",
   "metadata": {},
   "source": [
    "Now let's have the schema available"
   ]
  },
  {
   "cell_type": "markdown",
   "id": "d2c6e6e3",
   "metadata": {},
   "source": [
    "![](https://github.com/salvo-nicotra/masterupa/blob/main/dataset/schema.png)"
   ]
  },
  {
   "cell_type": "markdown",
   "id": "d2c34b6d",
   "metadata": {},
   "source": [
    "## Select"
   ]
  },
  {
   "cell_type": "markdown",
   "id": "7ec5a9a5",
   "metadata": {},
   "source": [
    "### All rows/columns in a table"
   ]
  },
  {
   "attachments": {},
   "cell_type": "markdown",
   "id": "4c653b6d",
   "metadata": {},
   "source": [
    "```sql \n",
    "select * from table \n",
    "```\n",
    "\n",
    "Note: * means all columns"
   ]
  },
  {
   "cell_type": "markdown",
   "id": "5e453331",
   "metadata": {},
   "source": [
    "List all items present in table Ad"
   ]
  },
  {
   "cell_type": "code",
   "execution_count": null,
   "id": "72e3b24d",
   "metadata": {},
   "outputs": [],
   "source": [
    "%%sql\n"
   ]
  },
  {
   "cell_type": "markdown",
   "id": "35382d83",
   "metadata": {},
   "source": [
    "### Subset of rows"
   ]
  },
  {
   "attachments": {},
   "cell_type": "markdown",
   "id": "388da568",
   "metadata": {},
   "source": [
    "```sql \n",
    "select * from table where column = xxx \n",
    "```\n",
    "\n",
    "Note: xxx may be an int or a string"
   ]
  },
  {
   "cell_type": "markdown",
   "id": "1693afb0",
   "metadata": {},
   "source": [
    "List all items with price less then 60"
   ]
  },
  {
   "cell_type": "code",
   "execution_count": null,
   "id": "304f5ac2",
   "metadata": {},
   "outputs": [],
   "source": [
    "%%sql\n"
   ]
  },
  {
   "cell_type": "markdown",
   "id": "4142764a",
   "metadata": {},
   "source": [
    "### Subset of rows multiple conditions"
   ]
  },
  {
   "attachments": {},
   "cell_type": "markdown",
   "id": "ec16d920",
   "metadata": {},
   "source": [
    "select * from table where col1 = xxx and col2 > yyy"
   ]
  },
  {
   "cell_type": "code",
   "execution_count": null,
   "id": "a963e2a4",
   "metadata": {},
   "outputs": [],
   "source": [
    "%%sql\n"
   ]
  },
  {
   "attachments": {},
   "cell_type": "markdown",
   "id": "c0d48b1c",
   "metadata": {},
   "source": [
    "### Get a subset of columns: select col1, col2 from table"
   ]
  },
  {
   "cell_type": "code",
   "execution_count": null,
   "id": "18e868b8",
   "metadata": {},
   "outputs": [],
   "source": [
    "%%sql\n"
   ]
  },
  {
   "attachments": {},
   "cell_type": "markdown",
   "id": "837b6c9c",
   "metadata": {},
   "source": [
    "### Get a nice name to columns: select col1 as name from table"
   ]
  },
  {
   "cell_type": "code",
   "execution_count": null,
   "id": "b4dd99bd",
   "metadata": {},
   "outputs": [],
   "source": [
    "%%sql\n"
   ]
  },
  {
   "attachments": {},
   "cell_type": "markdown",
   "id": "76b383c9",
   "metadata": {},
   "source": [
    "### Multiple conditions: select case when col1 > x then ‘X’ when col2 > y then ‘Y’ else ‘Z’ end"
   ]
  },
  {
   "cell_type": "code",
   "execution_count": null,
   "id": "82cfa213",
   "metadata": {},
   "outputs": [],
   "source": [
    "%%sql\n"
   ]
  },
  {
   "cell_type": "markdown",
   "id": "17accfba",
   "metadata": {},
   "source": [
    "### Limit results: (depends on DBMS) select * from table limit 10"
   ]
  },
  {
   "cell_type": "code",
   "execution_count": null,
   "id": "95ae7037",
   "metadata": {},
   "outputs": [],
   "source": [
    "%%sql\n"
   ]
  },
  {
   "attachments": {},
   "cell_type": "markdown",
   "id": "7e301969",
   "metadata": {},
   "source": [
    "### Search for patterns: select * from table where col like ‘%x%’ (% is a wildcard)"
   ]
  },
  {
   "cell_type": "code",
   "execution_count": null,
   "id": "607d8499",
   "metadata": {},
   "outputs": [],
   "source": [
    "%%sql\n"
   ]
  },
  {
   "cell_type": "markdown",
   "id": "cca84aa0",
   "metadata": {},
   "source": [
    "## Sort"
   ]
  },
  {
   "attachments": {},
   "cell_type": "markdown",
   "id": "484db870",
   "metadata": {},
   "source": [
    "### Return query result in order: select col from table order by col asc"
   ]
  },
  {
   "cell_type": "code",
   "execution_count": null,
   "id": "28d33401",
   "metadata": {},
   "outputs": [],
   "source": [
    "%%sql\n"
   ]
  },
  {
   "attachments": {},
   "cell_type": "markdown",
   "id": "3df42f82",
   "metadata": {},
   "source": [
    "### Sort multiple fields: select * from table order by col1, col2"
   ]
  },
  {
   "cell_type": "code",
   "execution_count": null,
   "id": "6cb05f4d",
   "metadata": {},
   "outputs": [],
   "source": [
    "%%sql\n"
   ]
  },
  {
   "attachments": {},
   "cell_type": "markdown",
   "id": "073592b9",
   "metadata": {},
   "source": [
    "### Sort based on conditional logic"
   ]
  },
  {
   "cell_type": "code",
   "execution_count": null,
   "id": "300bbcf4",
   "metadata": {},
   "outputs": [],
   "source": [
    "%%sql\n"
   ]
  },
  {
   "attachments": {},
   "cell_type": "markdown",
   "id": "44a1bdd7",
   "metadata": {},
   "source": [
    "## Working with multiple tables"
   ]
  },
  {
   "attachments": {},
   "cell_type": "markdown",
   "id": "1a408cda",
   "metadata": {},
   "source": [
    "### Stacking two row sets: select col from table union all select col from table2"
   ]
  },
  {
   "cell_type": "code",
   "execution_count": null,
   "id": "8639bb7e",
   "metadata": {},
   "outputs": [],
   "source": [
    "%%sql\n"
   ]
  },
  {
   "attachments": {},
   "cell_type": "markdown",
   "id": "161aa8ca",
   "metadata": {},
   "source": [
    "### Combine related rows: select colA, colB from tableA join tableB on tableA.key= tableB.key"
   ]
  },
  {
   "cell_type": "code",
   "execution_count": null,
   "id": "e97b54a3",
   "metadata": {},
   "outputs": [],
   "source": [
    "%%sql\n"
   ]
  },
  {
   "attachments": {},
   "cell_type": "markdown",
   "id": "75aea0e4",
   "metadata": {},
   "source": [
    "### Find rows in common between two tables "
   ]
  },
  {
   "cell_type": "code",
   "execution_count": null,
   "id": "6ef6f90f",
   "metadata": {},
   "outputs": [],
   "source": [
    "%%sql\n"
   ]
  },
  {
   "cell_type": "markdown",
   "id": "685cd039",
   "metadata": {},
   "source": []
  },
  {
   "cell_type": "code",
   "execution_count": null,
   "id": "faf39cd6",
   "metadata": {},
   "outputs": [],
   "source": [
    "%%sql\n"
   ]
  },
  {
   "cell_type": "markdown",
   "id": "22284406",
   "metadata": {},
   "source": []
  },
  {
   "cell_type": "code",
   "execution_count": null,
   "id": "6a9a2239",
   "metadata": {},
   "outputs": [],
   "source": [
    "%%sql\n"
   ]
  },
  {
   "cell_type": "markdown",
   "id": "eb437c02",
   "metadata": {},
   "source": []
  },
  {
   "cell_type": "code",
   "execution_count": null,
   "id": "7ea0b304",
   "metadata": {},
   "outputs": [],
   "source": [
    "%%sql\n"
   ]
  },
  {
   "cell_type": "markdown",
   "id": "234efe00",
   "metadata": {},
   "source": []
  },
  {
   "cell_type": "code",
   "execution_count": null,
   "id": "30bb4799",
   "metadata": {},
   "outputs": [],
   "source": [
    "%%sql\n"
   ]
  },
  {
   "cell_type": "markdown",
   "id": "406704a1",
   "metadata": {},
   "source": []
  },
  {
   "cell_type": "code",
   "execution_count": null,
   "id": "0c5921d9",
   "metadata": {},
   "outputs": [],
   "source": [
    "%%sql\n"
   ]
  },
  {
   "cell_type": "markdown",
   "id": "328b58ba",
   "metadata": {},
   "source": []
  },
  {
   "cell_type": "code",
   "execution_count": null,
   "id": "2fcbd56a",
   "metadata": {},
   "outputs": [],
   "source": [
    "%%sql\n"
   ]
  },
  {
   "cell_type": "markdown",
   "id": "97774ceb",
   "metadata": {},
   "source": []
  },
  {
   "cell_type": "code",
   "execution_count": null,
   "id": "91ebab26",
   "metadata": {},
   "outputs": [],
   "source": [
    "%%sql\n"
   ]
  },
  {
   "cell_type": "markdown",
   "id": "9a955a9b",
   "metadata": {},
   "source": []
  },
  {
   "cell_type": "code",
   "execution_count": null,
   "id": "560af6b9",
   "metadata": {},
   "outputs": [],
   "source": [
    "%%sql\n"
   ]
  }
 ],
 "metadata": {
  "kernelspec": {
   "display_name": "Python 3 (ipykernel)",
   "language": "python",
   "name": "python3"
  },
  "language_info": {
   "codemirror_mode": {
    "name": "ipython",
    "version": 3
   },
   "file_extension": ".py",
   "mimetype": "text/x-python",
   "name": "python",
   "nbconvert_exporter": "python",
   "pygments_lexer": "ipython3",
   "version": "3.9.10"
  }
 },
 "nbformat": 4,
 "nbformat_minor": 5
}
