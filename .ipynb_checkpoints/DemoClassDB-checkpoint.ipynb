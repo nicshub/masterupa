{
 "cells": [
  {
   "cell_type": "markdown",
   "id": "87e6cc18",
   "metadata": {},
   "source": [
    "# Demo Class DB"
   ]
  },
  {
   "cell_type": "markdown",
   "id": "860c1714",
   "metadata": {},
   "source": [
    "## Connecting to database"
   ]
  },
  {
   "cell_type": "markdown",
   "id": "ab674260",
   "metadata": {},
   "source": [
    "Install Magic Extension"
   ]
  },
  {
   "cell_type": "code",
   "execution_count": null,
   "id": "8d0263ca",
   "metadata": {},
   "outputs": [],
   "source": [
    "!pip install sqlalchemy ipython-sql"
   ]
  },
  {
   "cell_type": "markdown",
   "id": "b70b94b6",
   "metadata": {},
   "source": [
    "And load it"
   ]
  },
  {
   "cell_type": "code",
   "execution_count": null,
   "id": "0dff58a5",
   "metadata": {},
   "outputs": [],
   "source": [
    "%load_ext sql"
   ]
  },
  {
   "cell_type": "markdown",
   "id": "3e991dbf",
   "metadata": {},
   "source": [
    "Download the database"
   ]
  },
  {
   "cell_type": "code",
   "execution_count": null,
   "id": "5e3b08a4",
   "metadata": {},
   "outputs": [],
   "source": [
    "!wget https://raw.githubusercontent.com/salvo-nicotra/masterupa/main/upa"
   ]
  },
  {
   "cell_type": "markdown",
   "id": "148ad657",
   "metadata": {},
   "source": [
    "Now we connect to DB"
   ]
  },
  {
   "cell_type": "code",
   "execution_count": null,
   "id": "8a90af11",
   "metadata": {},
   "outputs": [],
   "source": [
    "%sql sqlite:///upa"
   ]
  },
  {
   "cell_type": "markdown",
   "id": "dfac758a",
   "metadata": {},
   "source": [
    "Check if we are connected"
   ]
  },
  {
   "cell_type": "code",
   "execution_count": null,
   "id": "d442300f",
   "metadata": {},
   "outputs": [],
   "source": [
    "%sql"
   ]
  },
  {
   "cell_type": "markdown",
   "id": "edb309fd",
   "metadata": {},
   "source": [
    "See the list of tables "
   ]
  },
  {
   "cell_type": "code",
   "execution_count": null,
   "id": "fb748d16",
   "metadata": {},
   "outputs": [],
   "source": [
    "%%sql \n",
    "SELECT name FROM sqlite_schema\n",
    "WHERE type='table'\n",
    "ORDER BY name;"
   ]
  },
  {
   "cell_type": "markdown",
   "id": "07386cac",
   "metadata": {},
   "source": [
    "Now let's have the schema available"
   ]
  },
  {
   "cell_type": "markdown",
   "id": "eacbe344",
   "metadata": {},
   "source": [
    "![](https://raw.githubusercontent.com/salvo-nicotra/masterupa/main/schema.png)"
   ]
  },
  {
   "cell_type": "markdown",
   "id": "63701f20",
   "metadata": {},
   "source": [
    "## Select"
   ]
  },
  {
   "cell_type": "markdown",
   "id": "e22989a4",
   "metadata": {},
   "source": [
    "### All rows/columns in a table"
   ]
  },
  {
   "attachments": {},
   "cell_type": "markdown",
   "id": "a2bf7f90",
   "metadata": {},
   "source": [
    "```sql \n",
    "select * from table \n",
    "```\n",
    "\n",
    "Note: * means all columns"
   ]
  },
  {
   "cell_type": "markdown",
   "id": "faad17c3",
   "metadata": {},
   "source": [
    "List all items present in table Ad"
   ]
  },
  {
   "cell_type": "code",
   "execution_count": null,
   "id": "33fd3349",
   "metadata": {},
   "outputs": [],
   "source": [
    "%%sql\n"
   ]
  },
  {
   "cell_type": "markdown",
   "id": "e2ca41dd",
   "metadata": {},
   "source": [
    "### Subset of rows"
   ]
  },
  {
   "attachments": {},
   "cell_type": "markdown",
   "id": "d98499b5",
   "metadata": {},
   "source": [
    "```sql \n",
    "select * from table where column = xxx \n",
    "```\n",
    "\n",
    "Note: xxx may be an int or a string"
   ]
  },
  {
   "cell_type": "markdown",
   "id": "ded03f5e",
   "metadata": {},
   "source": [
    "List all items with price less then 60"
   ]
  },
  {
   "cell_type": "code",
   "execution_count": null,
   "id": "f28311f9",
   "metadata": {},
   "outputs": [],
   "source": [
    "%%sql\n"
   ]
  },
  {
   "cell_type": "markdown",
   "id": "8bb49aa6",
   "metadata": {},
   "source": [
    "### Subset of rows multiple conditions"
   ]
  },
  {
   "attachments": {},
   "cell_type": "markdown",
   "id": "d67a2e39",
   "metadata": {},
   "source": [
    "```sql\n",
    "select * from table where col1 = xxx and col2 > yyy\n",
    "```"
   ]
  },
  {
   "cell_type": "markdown",
   "id": "32dccf7c",
   "metadata": {},
   "source": [
    "List all items with price between then 30 and 100"
   ]
  },
  {
   "cell_type": "code",
   "execution_count": null,
   "id": "eb925e67",
   "metadata": {},
   "outputs": [],
   "source": [
    "%%sql\n"
   ]
  },
  {
   "cell_type": "markdown",
   "id": "2501391c",
   "metadata": {},
   "source": [
    "### Get a subset of columns "
   ]
  },
  {
   "attachments": {},
   "cell_type": "markdown",
   "id": "9b314925",
   "metadata": {},
   "source": [
    "```sql \n",
    "select col1, col2 from table\n",
    "```"
   ]
  },
  {
   "cell_type": "markdown",
   "id": "33ec84ce",
   "metadata": {},
   "source": [
    "List title and body from News table"
   ]
  },
  {
   "cell_type": "code",
   "execution_count": null,
   "id": "0ef77556",
   "metadata": {},
   "outputs": [],
   "source": [
    "%%sql\n"
   ]
  },
  {
   "cell_type": "markdown",
   "id": "081afc40",
   "metadata": {},
   "source": [
    "### Get a nice name to columns"
   ]
  },
  {
   "attachments": {},
   "cell_type": "markdown",
   "id": "ec0cb227",
   "metadata": {},
   "source": [
    "```sql \n",
    "select col1 as name from table\n",
    "``` "
   ]
  },
  {
   "cell_type": "markdown",
   "id": "112d0cbb",
   "metadata": {},
   "source": [
    "List title and body from News table and rename them respectively with Titolo and Contenuto"
   ]
  },
  {
   "cell_type": "code",
   "execution_count": null,
   "id": "440f6c64",
   "metadata": {},
   "outputs": [],
   "source": [
    "%%sql\n"
   ]
  },
  {
   "cell_type": "markdown",
   "id": "13283680",
   "metadata": {},
   "source": [
    "### Multiple conditions"
   ]
  },
  {
   "attachments": {},
   "cell_type": "markdown",
   "id": "0b7b010c",
   "metadata": {},
   "source": [
    "```sql\n",
    "select \n",
    "case \n",
    "    when col1 > x then ‘X’ \n",
    "    when col2 > y then ‘Y’ \n",
    "    else ‘Z’\n",
    "end\n",
    "```"
   ]
  },
  {
   "cell_type": "markdown",
   "id": "753a8c5b",
   "metadata": {},
   "source": [
    "Classify the items in Item table according to price ranges\n",
    "- less than 10 as Cheap\n",
    "- between 10 and 9999 Affordable\n",
    "- Expensive otherwise"
   ]
  },
  {
   "cell_type": "code",
   "execution_count": null,
   "id": "5c8fda7d",
   "metadata": {},
   "outputs": [],
   "source": [
    "%%sql\n"
   ]
  },
  {
   "cell_type": "markdown",
   "id": "7c0559c9",
   "metadata": {},
   "source": [
    "### Limit results "
   ]
  },
  {
   "cell_type": "markdown",
   "id": "25dbe0c2",
   "metadata": {},
   "source": [
    "```sql \n",
    "select * from table limit 10\n",
    "```\n",
    "\n",
    "Note: Limit is not supported by all DBMS "
   ]
  },
  {
   "cell_type": "markdown",
   "id": "1e56db18",
   "metadata": {},
   "source": [
    "Get the first 10 elements in the News table"
   ]
  },
  {
   "cell_type": "code",
   "execution_count": null,
   "id": "e93ad2e9",
   "metadata": {},
   "outputs": [],
   "source": [
    "%%sql\n"
   ]
  },
  {
   "cell_type": "markdown",
   "id": "9704ae52",
   "metadata": {},
   "source": [
    "### Search for patterns"
   ]
  },
  {
   "attachments": {},
   "cell_type": "markdown",
   "id": "0023f553",
   "metadata": {},
   "source": [
    "```sql\n",
    "select * from table where col like ‘%x%’ \n",
    "```\n",
    "\n",
    "Note: % is a wildcard"
   ]
  },
  {
   "cell_type": "markdown",
   "id": "245a87ab",
   "metadata": {},
   "source": [
    "Get all writers in Writer table with name starting with C"
   ]
  },
  {
   "cell_type": "code",
   "execution_count": null,
   "id": "29b4cb1a",
   "metadata": {},
   "outputs": [],
   "source": [
    "%%sql\n"
   ]
  },
  {
   "cell_type": "markdown",
   "id": "64619aca",
   "metadata": {},
   "source": [
    "## Sort"
   ]
  },
  {
   "cell_type": "markdown",
   "id": "9a704b4c",
   "metadata": {},
   "source": [
    "### Return query result in order"
   ]
  },
  {
   "attachments": {},
   "cell_type": "markdown",
   "id": "c0887c55",
   "metadata": {},
   "source": [
    "```sql \n",
    "select col from table order by col asc\n",
    "```"
   ]
  },
  {
   "cell_type": "markdown",
   "id": "917f6816",
   "metadata": {},
   "source": [
    "Get the list of Item order by iId"
   ]
  },
  {
   "cell_type": "code",
   "execution_count": null,
   "id": "ce386c68",
   "metadata": {},
   "outputs": [],
   "source": [
    "%%sql\n"
   ]
  },
  {
   "cell_type": "markdown",
   "id": "870f4539",
   "metadata": {},
   "source": [
    "### Sort multiple fields"
   ]
  },
  {
   "attachments": {},
   "cell_type": "markdown",
   "id": "406ea20e",
   "metadata": {},
   "source": [
    "```sql\n",
    "select * from table order by col1, col2\n",
    "```"
   ]
  },
  {
   "attachments": {},
   "cell_type": "markdown",
   "id": "47806583",
   "metadata": {},
   "source": [
    "Get the list of interaction in Interact table order by cookieid, info, basket, buy"
   ]
  },
  {
   "cell_type": "code",
   "execution_count": null,
   "id": "a32e819e",
   "metadata": {},
   "outputs": [],
   "source": [
    "%%sql\n"
   ]
  },
  {
   "attachments": {},
   "cell_type": "markdown",
   "id": "ce72c41e",
   "metadata": {},
   "source": [
    "### Sort based on conditional logic"
   ]
  },
  {
   "cell_type": "markdown",
   "id": "e98cb1e5",
   "metadata": {},
   "source": [
    "```sql\n",
    "select * from table order by case when ... end\n",
    "```"
   ]
  },
  {
   "cell_type": "markdown",
   "id": "6d837171",
   "metadata": {},
   "source": [
    "Order the items in the Item table\n",
    "- by description for price less then 100\n",
    "- by producer otherwise "
   ]
  },
  {
   "cell_type": "code",
   "execution_count": null,
   "id": "1c0d51d3",
   "metadata": {},
   "outputs": [],
   "source": [
    "%%sql\n"
   ]
  },
  {
   "attachments": {},
   "cell_type": "markdown",
   "id": "2274cc07",
   "metadata": {},
   "source": [
    "## Working with multiple tables"
   ]
  },
  {
   "cell_type": "markdown",
   "id": "aad90d21",
   "metadata": {},
   "source": [
    "### Stacking two row sets"
   ]
  },
  {
   "attachments": {},
   "cell_type": "markdown",
   "id": "394621b0",
   "metadata": {},
   "source": [
    "```sql\n",
    "select col from table union all select col from table2\n",
    "```"
   ]
  },
  {
   "cell_type": "markdown",
   "id": "d5a1507b",
   "metadata": {},
   "source": [
    "Get all names from tables User and Writer"
   ]
  },
  {
   "cell_type": "code",
   "execution_count": null,
   "id": "824310b8",
   "metadata": {},
   "outputs": [],
   "source": [
    "%%sql\n"
   ]
  },
  {
   "cell_type": "markdown",
   "id": "4fe4b271",
   "metadata": {},
   "source": [
    "### Combine related rows"
   ]
  },
  {
   "attachments": {},
   "cell_type": "markdown",
   "id": "56be0f3b",
   "metadata": {},
   "source": [
    "```sql\n",
    "select colA, colB \n",
    "from tableA \n",
    "join tableB on tableA.key=tableB.key\n",
    "```"
   ]
  },
  {
   "cell_type": "markdown",
   "id": "b3f0b629",
   "metadata": {},
   "source": [
    "Get all News and Author details"
   ]
  },
  {
   "cell_type": "code",
   "execution_count": null,
   "id": "345a05a2",
   "metadata": {},
   "outputs": [],
   "source": [
    "%%sql\n",
    "\n"
   ]
  },
  {
   "attachments": {},
   "cell_type": "markdown",
   "id": "ade9a028",
   "metadata": {},
   "source": [
    "### Find rows in common between two tables "
   ]
  },
  {
   "cell_type": "markdown",
   "id": "077827f9",
   "metadata": {},
   "source": [
    "```sql\n",
    "select col from tableA\n",
    "INTERSECT \n",
    "select col from tableB\n",
    "```"
   ]
  },
  {
   "cell_type": "markdown",
   "id": "926a2412",
   "metadata": {},
   "source": [
    "Find cookieId that have interacted and clicked"
   ]
  },
  {
   "cell_type": "code",
   "execution_count": null,
   "id": "3e045273",
   "metadata": {},
   "outputs": [],
   "source": [
    "%%sql\n"
   ]
  },
  {
   "attachments": {},
   "cell_type": "markdown",
   "id": "67234506",
   "metadata": {},
   "source": [
    "### Find rows from one table that don’t exits in the other"
   ]
  },
  {
   "attachments": {},
   "cell_type": "markdown",
   "id": "658e534f",
   "metadata": {},
   "source": [
    "```sql\n",
    "select col from tableA\n",
    "EXCEPT \n",
    "select col from tableB\n",
    "```"
   ]
  },
  {
   "cell_type": "markdown",
   "id": "9f78ec8f",
   "metadata": {},
   "source": [
    "Find cookieId that have interacted but not clicked"
   ]
  },
  {
   "cell_type": "code",
   "execution_count": null,
   "id": "bef0466f",
   "metadata": {},
   "outputs": [],
   "source": [
    "%%sql\n"
   ]
  },
  {
   "attachments": {},
   "cell_type": "markdown",
   "id": "0da27310",
   "metadata": {},
   "source": [
    "### Find rows from one table that don’t match with another"
   ]
  },
  {
   "cell_type": "markdown",
   "id": "2d2c9f38",
   "metadata": {},
   "source": [
    "```sql\n",
    "select colA, colB \n",
    "from tableA \n",
    "left join tableB on tableA.key=tableB.key\n",
    "where \n",
    "tableB.key is null\n",
    "```"
   ]
  },
  {
   "cell_type": "markdown",
   "id": "77215e18",
   "metadata": {},
   "source": [
    "Get the list of News and correspondent cookieId that haven't yet read them"
   ]
  },
  {
   "cell_type": "code",
   "execution_count": 22,
   "id": "573a0fb8",
   "metadata": {},
   "outputs": [
    {
     "name": "stderr",
     "output_type": "stream",
     "text": [
      "UsageError: %%sql is a cell magic, but the cell body is empty. Did you mean the line magic %sql (single %)?\n"
     ]
    }
   ],
   "source": [
    "%%sql\n"
   ]
  },
  {
   "attachments": {},
   "cell_type": "markdown",
   "id": "9891d7f8",
   "metadata": {},
   "source": [
    "## Aggregation and Grouping"
   ]
  },
  {
   "cell_type": "markdown",
   "id": "2f0fa8fc",
   "metadata": {},
   "source": [
    "### Calculate average of a column"
   ]
  },
  {
   "cell_type": "markdown",
   "id": "e82d647f",
   "metadata": {},
   "source": [
    "```sql\n",
    "select avg(col) from table\n",
    "```"
   ]
  },
  {
   "attachments": {},
   "cell_type": "markdown",
   "id": "e2be5e83",
   "metadata": {},
   "source": [
    "### Getting min, max from a column in a group"
   ]
  },
  {
   "cell_type": "markdown",
   "id": "855fece1",
   "metadata": {},
   "source": [
    "```sql\n",
    "select min(col), max(col) from table group by key\n",
    "```"
   ]
  },
  {
   "cell_type": "markdown",
   "id": "23be4f84",
   "metadata": {},
   "source": [
    "Get the minimum and maximum price of items for each producer"
   ]
  },
  {
   "cell_type": "code",
   "execution_count": null,
   "id": "a92e623d",
   "metadata": {},
   "outputs": [],
   "source": [
    "%%sql\n"
   ]
  },
  {
   "cell_type": "markdown",
   "id": "f237f5ae",
   "metadata": {},
   "source": [
    "### Sum and Count columns"
   ]
  },
  {
   "cell_type": "markdown",
   "id": "776ddcaf",
   "metadata": {},
   "source": [
    "```sql\n",
    "select sum(col),count(*) from table\n",
    "```"
   ]
  },
  {
   "cell_type": "markdown",
   "id": "f8834142",
   "metadata": {},
   "source": []
  },
  {
   "cell_type": "code",
   "execution_count": null,
   "id": "bd876018",
   "metadata": {},
   "outputs": [],
   "source": [
    "%%sql\n"
   ]
  }
 ],
 "metadata": {
  "kernelspec": {
   "display_name": "Python 3 (ipykernel)",
   "language": "python",
   "name": "python3"
  },
  "language_info": {
   "codemirror_mode": {
    "name": "ipython",
    "version": 3
   },
   "file_extension": ".py",
   "mimetype": "text/x-python",
   "name": "python",
   "nbconvert_exporter": "python",
   "pygments_lexer": "ipython3",
   "version": "3.9.10"
  }
 },
 "nbformat": 4,
 "nbformat_minor": 5
}
